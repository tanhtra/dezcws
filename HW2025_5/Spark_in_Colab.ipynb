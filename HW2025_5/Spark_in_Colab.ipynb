{
  "nbformat": 4,
  "nbformat_minor": 0,
  "metadata": {
    "colab": {
      "provenance": []
    },
    "kernelspec": {
      "name": "python3",
      "display_name": "Python 3"
    },
    "language_info": {
      "name": "python"
    }
  },
  "cells": [
    {
      "cell_type": "markdown",
      "source": [
        "# Prerequisites\n",
        "Sign up to https://ngrok.com/ to be able to reach Spark UI"
      ],
      "metadata": {
        "id": "EmXS59l00s7l"
      }
    },
    {
      "cell_type": "code",
      "execution_count": 65,
      "metadata": {
        "id": "RSaYGSm1gPO7"
      },
      "outputs": [],
      "source": [
        "%%capture\n",
        "!pip install pyspark\n",
        "!pip install findspark\n",
        "!pip install pyngrok"
      ]
    },
    {
      "cell_type": "code",
      "source": [
        "import findspark\n",
        "findspark.init()\n",
        "from pyspark.sql import SparkSession"
      ],
      "metadata": {
        "id": "PFKpzAaSgUjA"
      },
      "execution_count": 66,
      "outputs": []
    },
    {
      "cell_type": "code",
      "source": [
        "spark = SparkSession.builder \\\n",
        "        .appName('testColab') \\\n",
        "        .getOrCreate()"
      ],
      "metadata": {
        "id": "rVt1eyR1jHRT"
      },
      "execution_count": 67,
      "outputs": []
    },
    {
      "cell_type": "markdown",
      "source": [
        "# Start a tunnel to access SparkUI\n",
        "\n",
        "Open a ngrok tunnel to the HTTP server"
      ],
      "metadata": {
        "id": "swvWh17c1Ump"
      }
    },
    {
      "cell_type": "code",
      "source": [
        "from pyngrok import ngrok, conf\n",
        "import getpass\n",
        "\n",
        "print(\"Enter your authtoken, which can be copied \"\n",
        "\"from https://dashboard.ngrok.com/get-started/your-authtoken\")\n",
        "conf.get_default().auth_token = getpass.getpass()\n",
        "\n",
        "ui_port = 4040\n",
        "public_url = ngrok.connect(ui_port).public_url\n",
        "print(f\" * ngrok tunnel \\\"{public_url}\\\" -> \\\"http://127.0.0.1:{ui_port}\\\"\")"
      ],
      "metadata": {
        "colab": {
          "base_uri": "https://localhost:8080/"
        },
        "id": "ynYMotFwxGcX",
        "outputId": "a3b174a4-9b9f-4f88-8724-41349aa5b250"
      },
      "execution_count": 18,
      "outputs": [
        {
          "output_type": "stream",
          "name": "stdout",
          "text": [
            "Enter your authtoken, which can be copied from https://dashboard.ngrok.com/get-started/your-authtoken\n",
            "··········\n",
            " * ngrok tunnel \"https://c513-104-155-217-65.ngrok-free.app\" -> \"http://127.0.0.1:4040\"\n"
          ]
        }
      ]
    },
    {
      "cell_type": "markdown",
      "source": [
        "## Download Yellow Taxi Trip records data, read it in with Spark, and count the number of rows\n",
        "\n",
        "Data source: https://www.nyc.gov/site/tlc/about/tlc-trip-record-data.page"
      ],
      "metadata": {
        "id": "84401itCkpCY"
      }
    },
    {
      "cell_type": "code",
      "source": [
        "from pyspark import SparkFiles\n",
        "from pyspark.sql.functions import *\n",
        "\n",
        "file_url = 'https://d37ci6vzurychx.cloudfront.net/trip-data/yellow_tripdata_2024-10.parquet'\n",
        "spark.sparkContext.addFile(file_url)\n",
        "\n",
        "df = spark.read.parquet(SparkFiles.get('yellow_tripdata_2024-10.parquet'))\n",
        "\n",
        "df.count()"
      ],
      "metadata": {
        "id": "vZaeQd0va3h1",
        "colab": {
          "base_uri": "https://localhost:8080/"
        },
        "outputId": "9f771111-7ffd-4e11-b6aa-bb95d261ee29"
      },
      "execution_count": 68,
      "outputs": [
        {
          "output_type": "execute_result",
          "data": {
            "text/plain": [
              "3833771"
            ]
          },
          "metadata": {},
          "execution_count": 68
        }
      ]
    },
    {
      "cell_type": "code",
      "source": [
        "#Use repartition() and partitionBy() together\n",
        "df.repartition(4)\\\n",
        "        .write\\\n",
        "        .mode(\"overwrite\") \\\n",
        "        .parquet(\"hw05/\")"
      ],
      "metadata": {
        "id": "JBumCJ9rSvse"
      },
      "execution_count": 69,
      "outputs": []
    },
    {
      "cell_type": "code",
      "source": [
        "#specify start and end dates\n",
        "dates = ('2024-10-15', '2024-10-16')\n",
        "\n",
        "#filter DataFrame to only show rows between start and end dates\n",
        "df.filter(df.tpep_pickup_datetime.between(*dates)).count()"
      ],
      "metadata": {
        "id": "urKPvdb9Vw8p",
        "outputId": "89523951-b213-48de-f295-09cab365f776",
        "colab": {
          "base_uri": "https://localhost:8080/"
        }
      },
      "execution_count": 70,
      "outputs": [
        {
          "output_type": "execute_result",
          "data": {
            "text/plain": [
              "128895"
            ]
          },
          "metadata": {},
          "execution_count": 70
        }
      ]
    },
    {
      "cell_type": "code",
      "source": [
        "df.printSchema()"
      ],
      "metadata": {
        "id": "iEgviHUybSXN",
        "outputId": "40ebf8e8-d84b-46cb-f14a-70d8bd8513a3",
        "colab": {
          "base_uri": "https://localhost:8080/"
        }
      },
      "execution_count": 71,
      "outputs": [
        {
          "output_type": "stream",
          "name": "stdout",
          "text": [
            "root\n",
            " |-- VendorID: integer (nullable = true)\n",
            " |-- tpep_pickup_datetime: timestamp_ntz (nullable = true)\n",
            " |-- tpep_dropoff_datetime: timestamp_ntz (nullable = true)\n",
            " |-- passenger_count: long (nullable = true)\n",
            " |-- trip_distance: double (nullable = true)\n",
            " |-- RatecodeID: long (nullable = true)\n",
            " |-- store_and_fwd_flag: string (nullable = true)\n",
            " |-- PULocationID: integer (nullable = true)\n",
            " |-- DOLocationID: integer (nullable = true)\n",
            " |-- payment_type: long (nullable = true)\n",
            " |-- fare_amount: double (nullable = true)\n",
            " |-- extra: double (nullable = true)\n",
            " |-- mta_tax: double (nullable = true)\n",
            " |-- tip_amount: double (nullable = true)\n",
            " |-- tolls_amount: double (nullable = true)\n",
            " |-- improvement_surcharge: double (nullable = true)\n",
            " |-- total_amount: double (nullable = true)\n",
            " |-- congestion_surcharge: double (nullable = true)\n",
            " |-- Airport_fee: double (nullable = true)\n",
            "\n"
          ]
        }
      ]
    },
    {
      "cell_type": "code",
      "source": [
        "df\\\n",
        "  .withColumn('DiffInSeconds',unix_timestamp(\"tpep_dropoff_datetime\") - unix_timestamp('tpep_pickup_datetime')) \\\n",
        "  .withColumn('Longest',round(col('DiffInSeconds')/3600))\\\n",
        "  .sort(col('Longest').desc())\\\n",
        "  .show(5)"
      ],
      "metadata": {
        "id": "kq344HBHXWeA",
        "outputId": "137af055-8e52-408a-882e-d7bf31b139f4",
        "colab": {
          "base_uri": "https://localhost:8080/"
        }
      },
      "execution_count": 72,
      "outputs": [
        {
          "output_type": "stream",
          "name": "stdout",
          "text": [
            "+--------+--------------------+---------------------+---------------+-------------+----------+------------------+------------+------------+------------+-----------+-----+-------+----------+------------+---------------------+------------+--------------------+-----------+-------------+-------+\n",
            "|VendorID|tpep_pickup_datetime|tpep_dropoff_datetime|passenger_count|trip_distance|RatecodeID|store_and_fwd_flag|PULocationID|DOLocationID|payment_type|fare_amount|extra|mta_tax|tip_amount|tolls_amount|improvement_surcharge|total_amount|congestion_surcharge|Airport_fee|DiffInSeconds|Longest|\n",
            "+--------+--------------------+---------------------+---------------+-------------+----------+------------------+------------+------------+------------+-----------+-----+-------+----------+------------+---------------------+------------+--------------------+-----------+-------------+-------+\n",
            "|       2| 2024-10-16 13:03:49|  2024-10-23 07:40:53|              1|        32.37|         3|                 N|          48|         265|           2|      152.5|  0.0|    0.0|       0.0|       17.38|                  1.0|      170.88|                 0.0|        0.0|       585424|  163.0|\n",
            "|       2| 2024-10-03 18:47:25|  2024-10-09 18:06:55|              1|          0.0|         2|                 N|         100|         100|           2|       70.0|  5.0|    0.5|       0.0|         0.0|                  1.0|        79.0|                 2.5|        0.0|       515970|  143.0|\n",
            "|       2| 2024-10-22 16:00:55|  2024-10-28 09:46:33|              1|          0.0|         1|                 N|         186|         226|           2|       27.5|  2.5|    0.5|       0.0|         0.0|                  1.0|        34.0|                 2.5|        0.0|       495938|  138.0|\n",
            "|       2| 2024-10-18 09:53:32|  2024-10-23 04:43:37|              1|        12.37|         1|                 N|         116|         163|           2|       46.4|  5.0|    0.5|       0.0|        6.94|                  1.0|       59.84|                 0.0|        0.0|       413405|  115.0|\n",
            "|       2| 2024-10-21 00:36:24|  2024-10-24 18:30:18|              1|         0.03|         2|                 N|         122|         138|           2|       70.0|  0.0|    0.5|       0.0|         0.0|                  1.0|        71.5|                 0.0|        0.0|       323634|   90.0|\n",
            "+--------+--------------------+---------------------+---------------+-------------+----------+------------------+------------+------------+------------+-----------+-----+-------+----------+------------+---------------------+------------+--------------------+-----------+-------------+-------+\n",
            "only showing top 5 rows\n",
            "\n"
          ]
        }
      ]
    },
    {
      "cell_type": "code",
      "source": [
        "lookup_url = 'https://d37ci6vzurychx.cloudfront.net/misc/taxi_zone_lookup.csv'\n",
        "spark.sparkContext.addFile(lookup_url)\n",
        "\n",
        "df_lu = spark.read.csv(SparkFiles.get('taxi_zone_lookup.csv'), header=True)\n",
        "df_lu.count()"
      ],
      "metadata": {
        "id": "yPbZ-3XIYqR8",
        "outputId": "85676716-2720-4564-b315-526c97ff87f3",
        "colab": {
          "base_uri": "https://localhost:8080/"
        }
      },
      "execution_count": 73,
      "outputs": [
        {
          "output_type": "execute_result",
          "data": {
            "text/plain": [
              "265"
            ]
          },
          "metadata": {},
          "execution_count": 73
        }
      ]
    },
    {
      "cell_type": "code",
      "source": [
        "df_lu.show(5)"
      ],
      "metadata": {
        "id": "vwnfnhjRZyO4",
        "outputId": "0e4fcc65-ad68-4f9f-bbbc-7c8a2b73914e",
        "colab": {
          "base_uri": "https://localhost:8080/"
        }
      },
      "execution_count": 74,
      "outputs": [
        {
          "output_type": "stream",
          "name": "stdout",
          "text": [
            "+----------+-------------+--------------------+------------+\n",
            "|LocationID|      Borough|                Zone|service_zone|\n",
            "+----------+-------------+--------------------+------------+\n",
            "|         1|          EWR|      Newark Airport|         EWR|\n",
            "|         2|       Queens|         Jamaica Bay|   Boro Zone|\n",
            "|         3|        Bronx|Allerton/Pelham G...|   Boro Zone|\n",
            "|         4|    Manhattan|       Alphabet City| Yellow Zone|\n",
            "|         5|Staten Island|       Arden Heights|   Boro Zone|\n",
            "+----------+-------------+--------------------+------------+\n",
            "only showing top 5 rows\n",
            "\n"
          ]
        }
      ]
    },
    {
      "cell_type": "code",
      "source": [
        "df_lu.printSchema()"
      ],
      "metadata": {
        "id": "XTivq3EgaSMR",
        "outputId": "256aac0e-5349-4fdb-a708-0ae405219fa7",
        "colab": {
          "base_uri": "https://localhost:8080/"
        }
      },
      "execution_count": 75,
      "outputs": [
        {
          "output_type": "stream",
          "name": "stdout",
          "text": [
            "root\n",
            " |-- LocationID: string (nullable = true)\n",
            " |-- Borough: string (nullable = true)\n",
            " |-- Zone: string (nullable = true)\n",
            " |-- service_zone: string (nullable = true)\n",
            "\n"
          ]
        }
      ]
    },
    {
      "cell_type": "code",
      "source": [
        "df.join(df_lu,df.PULocationID ==  df_lu.LocationID,'left') \\\n",
        "  .groupBy('Zone')\\\n",
        "  .count()\\\n",
        "  .sort(col('count').asc())\\\n",
        "  .show(truncate=False)"
      ],
      "metadata": {
        "id": "Xh-EPz_vawaX",
        "outputId": "a983ab0d-905f-4062-fbca-957a5656de39",
        "colab": {
          "base_uri": "https://localhost:8080/"
        }
      },
      "execution_count": 76,
      "outputs": [
        {
          "output_type": "stream",
          "name": "stdout",
          "text": [
            "+---------------------------------------------+-----+\n",
            "|Zone                                         |count|\n",
            "+---------------------------------------------+-----+\n",
            "|Governor's Island/Ellis Island/Liberty Island|1    |\n",
            "|Rikers Island                                |2    |\n",
            "|Arden Heights                                |2    |\n",
            "|Jamaica Bay                                  |3    |\n",
            "|Green-Wood Cemetery                          |3    |\n",
            "|Charleston/Tottenville                       |4    |\n",
            "|Rossville/Woodrow                            |4    |\n",
            "|West Brighton                                |4    |\n",
            "|Port Richmond                                |4    |\n",
            "|Eltingville/Annadale/Prince's Bay            |4    |\n",
            "|Great Kills                                  |6    |\n",
            "|Crotona Park                                 |6    |\n",
            "|Mariners Harbor                              |7    |\n",
            "|Heartland Village/Todt Hill                  |7    |\n",
            "|Saint George/New Brighton                    |9    |\n",
            "|Oakwood                                      |9    |\n",
            "|New Dorp/Midland Beach                       |10   |\n",
            "|Broad Channel                                |10   |\n",
            "|Westerleigh                                  |12   |\n",
            "|Pelham Bay Park                              |12   |\n",
            "+---------------------------------------------+-----+\n",
            "only showing top 20 rows\n",
            "\n"
          ]
        }
      ]
    },
    {
      "cell_type": "code",
      "source": [
        "# Optionally put the tunnel down\n",
        "# ngrok.disconnect(public_url)"
      ],
      "metadata": {
        "id": "5iluhZqWyIPk"
      },
      "execution_count": null,
      "outputs": []
    },
    {
      "cell_type": "code",
      "source": [],
      "metadata": {
        "id": "uMrdM-zjQ_Bb"
      },
      "execution_count": null,
      "outputs": []
    }
  ]
}